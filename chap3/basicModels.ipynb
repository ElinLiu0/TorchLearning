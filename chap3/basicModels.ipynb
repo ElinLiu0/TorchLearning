{
 "cells": [
  {
   "cell_type": "code",
   "execution_count": 1,
   "metadata": {},
   "outputs": [],
   "source": [
    "import torch.nn as nn"
   ]
  },
  {
   "cell_type": "code",
   "execution_count": 5,
   "metadata": {},
   "outputs": [],
   "source": [
    "# 构建顺序字典模型\n",
    "from collections import OrderedDict\n",
    "\n",
    "\n",
    "model = nn.Sequential(OrderedDict([\n",
    "    ('conv1', nn.Conv2d(1, 20, 5)),\n",
    "    ('relu1', nn.ReLU()),\n",
    "    ('conv2', nn.Conv2d(20, 64, 5)),\n",
    "    ('relu2', nn.ReLU())\n",
    "]))"
   ]
  },
  {
   "cell_type": "code",
   "execution_count": 6,
   "metadata": {},
   "outputs": [
    {
     "data": {
      "text/plain": [
       "<bound method Module.parameters of Sequential(\n",
       "  (conv1): Conv2d(1, 20, kernel_size=(5, 5), stride=(1, 1))\n",
       "  (relu1): ReLU()\n",
       "  (conv2): Conv2d(20, 64, kernel_size=(5, 5), stride=(1, 1))\n",
       "  (relu2): ReLU()\n",
       ")>"
      ]
     },
     "execution_count": 6,
     "metadata": {},
     "output_type": "execute_result"
    }
   ],
   "source": [
    "model.parameters"
   ]
  },
  {
   "cell_type": "code",
   "execution_count": 7,
   "metadata": {},
   "outputs": [],
   "source": [
    "# 使用参数来构建顺序模型，此时模型的每一个层不会生成单独的名字\n",
    "model = nn.Sequential(\n",
    "    nn.Conv2d(1, 20, 5),\n",
    "    nn.ReLU(),\n",
    "    nn.Conv2d(20, 64, 5),\n",
    "    nn.ReLU()\n",
    ")"
   ]
  },
  {
   "cell_type": "code",
   "execution_count": 8,
   "metadata": {},
   "outputs": [
    {
     "data": {
      "text/plain": [
       "<bound method Module.parameters of Sequential(\n",
       "  (0): Conv2d(1, 20, kernel_size=(5, 5), stride=(1, 1))\n",
       "  (1): ReLU()\n",
       "  (2): Conv2d(20, 64, kernel_size=(5, 5), stride=(1, 1))\n",
       "  (3): ReLU()\n",
       ")>"
      ]
     },
     "execution_count": 8,
     "metadata": {},
     "output_type": "execute_result"
    }
   ],
   "source": [
    "model.parameters"
   ]
  },
  {
   "cell_type": "code",
   "execution_count": 10,
   "metadata": {},
   "outputs": [],
   "source": [
    "# 模块列表的使用方法\n",
    "class MyMoudle(nn.Module):\n",
    "    def __init__(self):\n",
    "        super(MyMoudle, self).__init__()\n",
    "        # 创建一个模块列表，包含20个线性层，每个线性层的输出维度为100\n",
    "        self.linears = nn.ModuleList([nn.Linear(10, 10) for i in range(20)])\n",
    "    # 定义模型的前向传播，使用模块列表中的20个线性层\n",
    "    def forward(self, x):\n",
    "        for i, l in enumerate(self.linears):\n",
    "            x = self.linears[i // 2](x) + l(x)\n",
    "        return x"
   ]
  },
  {
   "cell_type": "code",
   "execution_count": 11,
   "metadata": {},
   "outputs": [
    {
     "data": {
      "text/plain": [
       "<bound method Module.parameters of MyMoudle(\n",
       "  (linears): ModuleList(\n",
       "    (0): Linear(in_features=10, out_features=10, bias=True)\n",
       "    (1): Linear(in_features=10, out_features=10, bias=True)\n",
       "    (2): Linear(in_features=10, out_features=10, bias=True)\n",
       "    (3): Linear(in_features=10, out_features=10, bias=True)\n",
       "    (4): Linear(in_features=10, out_features=10, bias=True)\n",
       "    (5): Linear(in_features=10, out_features=10, bias=True)\n",
       "    (6): Linear(in_features=10, out_features=10, bias=True)\n",
       "    (7): Linear(in_features=10, out_features=10, bias=True)\n",
       "    (8): Linear(in_features=10, out_features=10, bias=True)\n",
       "    (9): Linear(in_features=10, out_features=10, bias=True)\n",
       "    (10): Linear(in_features=10, out_features=10, bias=True)\n",
       "    (11): Linear(in_features=10, out_features=10, bias=True)\n",
       "    (12): Linear(in_features=10, out_features=10, bias=True)\n",
       "    (13): Linear(in_features=10, out_features=10, bias=True)\n",
       "    (14): Linear(in_features=10, out_features=10, bias=True)\n",
       "    (15): Linear(in_features=10, out_features=10, bias=True)\n",
       "    (16): Linear(in_features=10, out_features=10, bias=True)\n",
       "    (17): Linear(in_features=10, out_features=10, bias=True)\n",
       "    (18): Linear(in_features=10, out_features=10, bias=True)\n",
       "    (19): Linear(in_features=10, out_features=10, bias=True)\n",
       "  )\n",
       ")>"
      ]
     },
     "execution_count": 11,
     "metadata": {},
     "output_type": "execute_result"
    }
   ],
   "source": [
    "model = MyMoudle()\n",
    "model.parameters"
   ]
  },
  {
   "cell_type": "code",
   "execution_count": 14,
   "metadata": {},
   "outputs": [],
   "source": [
    "# 模块字典的使用方法\n",
    "class MyMoudle(nn.Module):\n",
    "    def __init__(self):\n",
    "        super(MyMoudle, self).__init__()\n",
    "        # 创建一个模块字典，包含一个二维卷积层和一个最大池化层\n",
    "        self.choices = nn.ModuleDict({\n",
    "            # 初始化一个二维卷积层，输入通道为10，输出通道为10，卷积核大小为3\n",
    "            'conv': nn.Conv2d(10, 10, 3),\n",
    "            # 初始化一个最大池化层，池化核大小为3\n",
    "            'pool': nn.MaxPool2d(3)\n",
    "        })\n",
    "        # 定义激活函数群\n",
    "        self.activations = nn.ModuleDict([\n",
    "            ['lrelu', nn.LeakyReLU()],\n",
    "            ['prelu', nn.PReLU()]\n",
    "        ])\n",
    "    # 定义模型的前向传播，使用模块字典中的卷积层和最大池化层\n",
    "    def forward(self, x, choice, act):\n",
    "        x = self.choices[choice](x)\n",
    "        x = self.activations[act](x)\n",
    "        return x"
   ]
  },
  {
   "cell_type": "code",
   "execution_count": 15,
   "metadata": {},
   "outputs": [
    {
     "data": {
      "text/plain": [
       "<bound method Module.parameters of MyMoudle(\n",
       "  (choices): ModuleDict(\n",
       "    (conv): Conv2d(10, 10, kernel_size=(3, 3), stride=(1, 1))\n",
       "    (pool): MaxPool2d(kernel_size=3, stride=3, padding=0, dilation=1, ceil_mode=False)\n",
       "  )\n",
       "  (activations): ModuleDict(\n",
       "    (lrelu): LeakyReLU(negative_slope=0.01)\n",
       "    (prelu): PReLU(num_parameters=1)\n",
       "  )\n",
       ")>"
      ]
     },
     "execution_count": 15,
     "metadata": {},
     "output_type": "execute_result"
    }
   ],
   "source": [
    "MyMoudle().parameters"
   ]
  },
  {
   "cell_type": "code",
   "execution_count": null,
   "metadata": {},
   "outputs": [],
   "source": []
  }
 ],
 "metadata": {
  "kernelspec": {
   "display_name": "Python 3.9.12 ('base')",
   "language": "python",
   "name": "python3"
  },
  "language_info": {
   "codemirror_mode": {
    "name": "ipython",
    "version": 3
   },
   "file_extension": ".py",
   "mimetype": "text/x-python",
   "name": "python",
   "nbconvert_exporter": "python",
   "pygments_lexer": "ipython3",
   "version": "3.9.12"
  },
  "orig_nbformat": 4,
  "vscode": {
   "interpreter": {
    "hash": "42338d186148b0cdac95e402a6383b43087380f7dd608a48bf55a16de9d059a1"
   }
  }
 },
 "nbformat": 4,
 "nbformat_minor": 2
}
