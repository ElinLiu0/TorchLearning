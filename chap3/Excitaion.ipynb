{
 "cells": [
  {
   "cell_type": "code",
   "execution_count": 1,
   "metadata": {},
   "outputs": [],
   "source": [
    "import torch.nn as nn"
   ]
  },
  {
   "cell_type": "code",
   "execution_count": 2,
   "metadata": {},
   "outputs": [
    {
     "name": "stdout",
     "output_type": "stream",
     "text": [
      "1.4142135623730951\n"
     ]
    }
   ],
   "source": [
    "# 使用calculate_gain函数计算激活函数的增益\n",
    "gain = nn.init.calculate_gain('relu', 0.2)\n",
    "print(gain)"
   ]
  },
  {
   "cell_type": "code",
   "execution_count": 4,
   "metadata": {},
   "outputs": [],
   "source": [
    "# 初始化一个张量\n",
    "import torch\n",
    "tensor = torch.randn(3, 3)"
   ]
  },
  {
   "cell_type": "code",
   "execution_count": 8,
   "metadata": {},
   "outputs": [
    {
     "data": {
      "text/plain": [
       "tensor([[0.2460, 0.0016, 0.0090],\n",
       "        [0.7510, 0.6679, 0.5738],\n",
       "        [0.6945, 0.6971, 0.0320]])"
      ]
     },
     "execution_count": 8,
     "metadata": {},
     "output_type": "execute_result"
    }
   ],
   "source": [
    "# 参数初始化函数签名，及一些常见的初始化算法\n",
    "torch.nn.init.uniform_(tensor,a=0.0,b=1.0) # 常数初始化，该函数将对tensor中的元素进行均匀分布初始化，范围为[a,b]"
   ]
  },
  {
   "cell_type": "code",
   "execution_count": 9,
   "metadata": {},
   "outputs": [
    {
     "data": {
      "text/plain": [
       "tensor([[ 1.3649, -0.1176,  1.5783],\n",
       "        [-0.2903, -0.8175, -0.6393],\n",
       "        [ 1.4862, -0.8554, -1.2225]])"
      ]
     },
     "execution_count": 9,
     "metadata": {},
     "output_type": "execute_result"
    }
   ],
   "source": [
    "nn.init.normal_(tensor,mean=0.0,std=1.0) # 常数初始化，该函数将对tensor中的元素进行正态分布初始化，均值为mean，标准差为std"
   ]
  },
  {
   "cell_type": "code",
   "execution_count": 10,
   "metadata": {},
   "outputs": [
    {
     "data": {
      "text/plain": [
       "tensor([[-0.8729, -0.2137, -0.6302],\n",
       "        [-0.8743, -0.7039, -0.1883],\n",
       "        [-0.3171,  0.1039,  0.9299]])"
      ]
     },
     "execution_count": 10,
     "metadata": {},
     "output_type": "execute_result"
    }
   ],
   "source": [
    "# 使用服从Glorot均匀分布的随机数初始化张量\n",
    "nn.init.xavier_uniform_(tensor, gain=1.0) # 调用希维尔均匀分布初始化函数，gain为增益量"
   ]
  },
  {
   "cell_type": "code",
   "execution_count": 11,
   "metadata": {},
   "outputs": [
    {
     "data": {
      "text/plain": [
       "tensor([[ 0.6076,  0.3423,  0.2416],\n",
       "        [ 0.1613,  0.9751,  1.0417],\n",
       "        [ 0.1566,  0.0529, -0.2632]])"
      ]
     },
     "execution_count": 11,
     "metadata": {},
     "output_type": "execute_result"
    }
   ],
   "source": [
    "# 调用希维尔正态分布初始化函数，gain为增益量\n",
    "nn.init.xavier_normal_(tensor, gain=1.0)"
   ]
  },
  {
   "cell_type": "code",
   "execution_count": 12,
   "metadata": {},
   "outputs": [
    {
     "data": {
      "text/plain": [
       "tensor([[-0.7390, -0.8865,  0.5460],\n",
       "        [ 0.0359,  0.1163,  0.1936],\n",
       "        [-0.1725, -0.8985,  0.1238]])"
      ]
     },
     "execution_count": 12,
     "metadata": {},
     "output_type": "execute_result"
    }
   ],
   "source": [
    "# 调用kaiming均匀分布初始化函数\n",
    "# mode为执行模式，nonlinearity为激活函数，a为增益量\n",
    "nn.init.kaiming_uniform_(tensor, a=0, mode='fan_in', nonlinearity='leaky_relu')"
   ]
  },
  {
   "cell_type": "markdown",
   "metadata": {},
   "source": [
    "### [对于Leaky Relu和Relu的区别分析](https://blog.csdn.net/sinat_33027857/article/details/80192789)\n",
    "1. Relu：  \n",
    "   - 数学表达式：a = max(0, z)  \n",
    "   - 函数图像为：\n",
    "   - 函数图像：  \n",
    "<br>\n",
    "![ReLU](https://img-blog.csdn.net/20180504113419900?watermark/2/text/aHR0cHM6Ly9ibG9nLmNzZG4ubmV0L3NpbmF0XzMzMDI3ODU3/font/5a6L5L2T/fontsize/400/fill/I0JBQkFCMA==/dissolve/70)  \n",
    "   - 优点：由上图可以看出，Relu得到的SGD的收敛速度较快   \n",
    "   - 缺点：训练的时候很容易‘die'了，对于小于0的值，这个神经元的梯度永远都会是0，在实际操错中，如果learning rate很大，很可能网络中较多的神经元都'dead'了，即使是较小的learning rate，这种情况也很有可能发生。"
   ]
  },
  {
   "cell_type": "markdown",
   "metadata": {},
   "source": [
    "2. Leaky Relu：\n",
    "   - 数学表达式：y = max(0, x) + leak*min(0,x)  （leak是一个很小的常数，这样保留了一些负轴的值，使得负轴的信息不会全部丢失）\n",
    "   - 函数图像：  \n",
    "   ![Leaky ReLU](https://img-blog.csdn.net/20180504113452899?watermark/2/text/aHR0cHM6Ly9ibG9nLmNzZG4ubmV0L3NpbmF0XzMzMDI3ODU3/font/5a6L5L2T/fontsize/400/fill/I0JBQkFCMA==/dissolve/70)"
   ]
  },
  {
   "cell_type": "markdown",
   "metadata": {},
   "source": []
  }
 ],
 "metadata": {
  "kernelspec": {
   "display_name": "Python 3.9.12 ('base')",
   "language": "python",
   "name": "python3"
  },
  "language_info": {
   "codemirror_mode": {
    "name": "ipython",
    "version": 3
   },
   "file_extension": ".py",
   "mimetype": "text/x-python",
   "name": "python",
   "nbconvert_exporter": "python",
   "pygments_lexer": "ipython3",
   "version": "3.9.13"
  },
  "orig_nbformat": 4,
  "vscode": {
   "interpreter": {
    "hash": "42338d186148b0cdac95e402a6383b43087380f7dd608a48bf55a16de9d059a1"
   }
  }
 },
 "nbformat": 4,
 "nbformat_minor": 2
}
