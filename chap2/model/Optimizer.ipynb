{
 "cells": [
  {
   "cell_type": "code",
   "execution_count": 1,
   "metadata": {},
   "outputs": [],
   "source": [
    "from sklearn.datasets import load_boston\n",
    "import torch.nn as nn\n",
    "from tqdm import tqdm\n",
    "import torch\n",
    "import numpy as np"
   ]
  },
  {
   "cell_type": "code",
   "execution_count": 2,
   "metadata": {},
   "outputs": [],
   "source": [
    "class LinearModel(nn.Module):\n",
    "    # 初始化类的参数\n",
    "    def __init__(self, ndim):\n",
    "        super(LinearModel, self).__init__()\n",
    "        # 定义一个线性层，输入维度为ndim，输出维度为1\n",
    "        self.ndim = ndim\n",
    "        # 初始化权重和偏置，这里因为我们是以参数的形式传入，所以我们需要使用nn.Parameter来定义\n",
    "        self.weight = nn.Parameter(torch.randn(ndim, 1, device='cuda'))\n",
    "        self.bias = nn.Parameter(torch.randn(1, device='cuda'))\n",
    "\n",
    "    # 定义前向计算函数\n",
    "    def forward(self, x):\n",
    "        # y = Wx + b\n",
    "        return x.mm(self.weight) + self.bias"
   ]
  },
  {
   "cell_type": "code",
   "execution_count": 3,
   "metadata": {},
   "outputs": [
    {
     "name": "stderr",
     "output_type": "stream",
     "text": [
      "/home/elin/anaconda3/lib/python3.9/site-packages/sklearn/utils/deprecation.py:87: FutureWarning: Function load_boston is deprecated; `load_boston` is deprecated in 1.0 and will be removed in 1.2.\n",
      "\n",
      "    The Boston housing prices dataset has an ethical problem. You can refer to\n",
      "    the documentation of this function for further details.\n",
      "\n",
      "    The scikit-learn maintainers therefore strongly discourage the use of this\n",
      "    dataset unless the purpose of the code is to study and educate about\n",
      "    ethical issues in data science and machine learning.\n",
      "\n",
      "    In this special case, you can fetch the dataset from the original\n",
      "    source::\n",
      "\n",
      "        import pandas as pd\n",
      "        import numpy as np\n",
      "\n",
      "\n",
      "        data_url = \"http://lib.stat.cmu.edu/datasets/boston\"\n",
      "        raw_df = pd.read_csv(data_url, sep=\"\\s+\", skiprows=22, header=None)\n",
      "        data = np.hstack([raw_df.values[::2, :], raw_df.values[1::2, :2]])\n",
      "        target = raw_df.values[1::2, 2]\n",
      "\n",
      "    Alternative datasets include the California housing dataset (i.e.\n",
      "    :func:`~sklearn.datasets.fetch_california_housing`) and the Ames housing\n",
      "    dataset. You can load the datasets as follows::\n",
      "\n",
      "        from sklearn.datasets import fetch_california_housing\n",
      "        housing = fetch_california_housing()\n",
      "\n",
      "    for the California housing dataset and::\n",
      "\n",
      "        from sklearn.datasets import fetch_openml\n",
      "        housing = fetch_openml(name=\"house_prices\", as_frame=True)\n",
      "\n",
      "    for the Ames housing dataset.\n",
      "    \n",
      "  warnings.warn(msg, category=FutureWarning)\n"
     ]
    }
   ],
   "source": [
    "# 加载数据\n",
    "boston = load_boston()\n",
    "# 初始化线性模型\n",
    "lm = LinearModel(13)\n",
    "# 创建损失函数\n",
    "lose = nn.MSELoss()\n",
    "# 初始化优化器，指定优化器的学习率为1e-16\n",
    "optimizer = torch.optim.SGD(lm.parameters(),lr=1e-16)\n",
    "# 提取数据并转换为tensor，并且将原始数据转换为Numpy float32类型\n",
    "data = torch.tensor(boston['data'].astype(np.float32),requires_grad=True,device='cuda',dtype=torch.float32)\n",
    "target = torch.tensor(boston['target'].astype(np.float32),requires_grad=True,device='cuda',dtype=torch.float32)"
   ]
  },
  {
   "cell_type": "code",
   "execution_count": 5,
   "metadata": {},
   "outputs": [],
   "source": [
    "from tqdm import trange"
   ]
  },
  {
   "cell_type": "code",
   "execution_count": 12,
   "metadata": {},
   "outputs": [
    {
     "name": "stderr",
     "output_type": "stream",
     "text": [
      "  0%|          | 0/1000 [00:00<?, ?it/s]/home/elin/anaconda3/lib/python3.9/site-packages/torch/nn/modules/loss.py:530: UserWarning: Using a target size (torch.Size([506])) that is different to the input size (torch.Size([506, 1])). This will likely lead to incorrect results due to broadcasting. Please ensure they have the same size.\n",
      "  return F.mse_loss(input, target, reduction=self.reduction)\n",
      "Currently Process: 100%|██████████| 1000/1000 [00:05<00:00, 174.47it/s, epoch=999, lose=tensor(3226370.5000, device='cuda:0', grad_fn=<MseLossBackward0>)]\n"
     ]
    }
   ],
   "source": [
    "with trange(1000) as bar:\n",
    "    for i in bar:\n",
    "        # 输出模型预测结果\n",
    "        predict = lm(data)\n",
    "        # 输出损失函数\n",
    "        loseValue = lose(predict,target)\n",
    "        optimizer.zero_grad() # 清零梯度\n",
    "        # loss.backward()# 反向传播\n",
    "        optimizer.step()\n",
    "        bar.set_description(\"Currently Process\")\n",
    "        bar.set_postfix(lose=loseValue,epoch=i)\n",
    "        bar.update()"
   ]
  },
  {
   "cell_type": "code",
   "execution_count": null,
   "metadata": {},
   "outputs": [],
   "source": []
  }
 ],
 "metadata": {
  "kernelspec": {
   "display_name": "Python 3.9.12 ('base')",
   "language": "python",
   "name": "python3"
  },
  "language_info": {
   "codemirror_mode": {
    "name": "ipython",
    "version": 3
   },
   "file_extension": ".py",
   "mimetype": "text/x-python",
   "name": "python",
   "nbconvert_exporter": "python",
   "pygments_lexer": "ipython3",
   "version": "3.9.12"
  },
  "orig_nbformat": 4,
  "vscode": {
   "interpreter": {
    "hash": "42338d186148b0cdac95e402a6383b43087380f7dd608a48bf55a16de9d059a1"
   }
  }
 },
 "nbformat": 4,
 "nbformat_minor": 2
}
