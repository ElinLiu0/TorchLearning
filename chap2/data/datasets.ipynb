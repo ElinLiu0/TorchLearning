{
 "cells": [
  {
   "cell_type": "code",
   "execution_count": 1,
   "metadata": {},
   "outputs": [],
   "source": [
    "import torch"
   ]
  },
  {
   "cell_type": "code",
   "execution_count": 2,
   "metadata": {},
   "outputs": [],
   "source": [
    "# 创建普通数据集，继承自torch.utils.data.Dataset\n",
    "class Dataset(object):\n",
    "    def __getitem__(self, index):\n",
    "        # index：数据索引（整数，范围0到数据数目-1）\n",
    "        return self.X[index], self.y[index]\n",
    "        # 返回数据张量\n",
    "    def __len__(self):\n",
    "        # 返回数据数目\n",
    "        return len(self.X)"
   ]
  },
  {
   "cell_type": "code",
   "execution_count": null,
   "metadata": {},
   "outputs": [],
   "source": [
    "# 基于TorchVision的数据集，继承自torchvision.datasets.VisionDataset\n",
    "from torchvision.datasets import VisionDataset\n",
    "class DatasetFolder(VisionDataset):\n",
    "    def __init__(self, root, loader, extensions=None, transform=None, target_transform=None, is_valid_file=None):\n",
    "        # root：数据集根目录\n",
    "        # loader：数据加载函数\n",
    "        # extensions：数据文件扩展名列表\n",
    "        # transform：数据变换函数\n",
    "        # target_transform：标签变换函数\n",
    "        # is_valid_file：数据文件是否有效函数\n",
    "        super(DatasetFolder, self).__init__(root, transform=transform, target_transform=target_transform)\n",
    "        # 调用父类构造函数\n",
    "        classes, class_to_idx = self._find_classes(self.root)\n",
    "        # 获取数据集类别列表和类别索引字典\n",
    "        self.samples = make_dataset(self.root, class_to_idx, extensions, is_valid_file)\n",
    "        # 初始化加载器\n",
    "        self.loader = loader\n",
    "    def __getitem__(self, index):\n",
    "        # index：数据索引（整数，范围0到数据数目-1）\n",
    "        path, target = self.samples[index]\n",
    "        # 获取数据路径和标签\n",
    "        sample = self.loader(path)\n",
    "        # 调用数据加载函数加载数据\n",
    "        if self.transform is not None:\n",
    "            sample = self.transform(sample)\n",
    "            # 调用数据变换函数\n",
    "        if self.target_transform is not None:\n",
    "            target = self.target_transform(target)\n",
    "            # 调用标签变换函数\n",
    "        return sample, target\n",
    "        # 返回数据张量\n",
    "    def __len__(self):\n",
    "        # 返回数据数目\n",
    "        return len(self.samples)\n",
    "    def _find_classes(self, dir):\n",
    "        # dir：数据集根目录\n",
    "        if sys.version_info >= (3, 5):\n",
    "            # 系统版本号大于等于3.5\n",
    "            classes = [d.name for d in os.scandir(dir) if d.is_dir()]\n",
    "            # 获取数据集根"
   ]
  }
 ],
 "metadata": {
  "kernelspec": {
   "display_name": "Python 3.9.12 ('base')",
   "language": "python",
   "name": "python3"
  },
  "language_info": {
   "codemirror_mode": {
    "name": "ipython",
    "version": 3
   },
   "file_extension": ".py",
   "mimetype": "text/x-python",
   "name": "python",
   "nbconvert_exporter": "python",
   "pygments_lexer": "ipython3",
   "version": "3.9.12"
  },
  "orig_nbformat": 4,
  "vscode": {
   "interpreter": {
    "hash": "42338d186148b0cdac95e402a6383b43087380f7dd608a48bf55a16de9d059a1"
   }
  }
 },
 "nbformat": 4,
 "nbformat_minor": 2
}
